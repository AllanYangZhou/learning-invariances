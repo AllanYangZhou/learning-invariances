{
 "cells": [
  {
   "cell_type": "code",
   "execution_count": 1,
   "metadata": {},
   "outputs": [],
   "source": [
    "import numpy as np\n",
    "import torch\n",
    "import torchvision\n",
    "import torch.nn.functional as F\n",
    "import numpy as np\n",
    "from itertools import combinations\n",
    "import matplotlib.pyplot as plt\n",
    "from torch.utils.data import DataLoader\n",
    "%matplotlib inline"
   ]
  },
  {
   "cell_type": "code",
   "execution_count": 95,
   "metadata": {},
   "outputs": [],
   "source": [
    "class RotMNIST(torchvision.datasets.MNIST):\n",
    "    def __init__(self,*args, max_rotation=2*np.pi, **kwargs):\n",
    "        super().__init__(*args,download=True,**kwargs)\n",
    "        N = len(self.data)\n",
    "        angles = torch.rand(N)* 2 * max_rotation - max_rotation\n",
    "        with torch.no_grad():\n",
    "            # Build affine matrices for random rotation of each image\n",
    "            affineMatrices = torch.zeros(N,2,3)\n",
    "            affineMatrices[:,0,0] = angles.cos()\n",
    "            affineMatrices[:,1,1] = angles.cos()\n",
    "            affineMatrices[:,0,1] = angles.sin()\n",
    "            affineMatrices[:,1,0] = -angles.sin()\n",
    "            self.data = self.data.unsqueeze(1).float()\n",
    "            flowgrid = F.affine_grid(affineMatrices, size = self.data.size())\n",
    "            self.data = F.grid_sample(self.data, flowgrid)\n",
    "        self.shuffled_idcs = np.arange(N)\n",
    "        np.random.shuffle(self.shuffled_idcs)\n",
    "        # Number of targets: (10 + 2 - 1 choose 2) = 55\n",
    "        self.tgts2tgt = {}\n",
    "        k = 0\n",
    "        for i in range(10):\n",
    "            for j in range(i,10):\n",
    "                self.tgts2tgt[(i,j)] = k\n",
    "                k += 1\n",
    "\n",
    "    def __getitem__(self, idx):\n",
    "        idx2 = self.shuffled_idcs[idx]\n",
    "        im1, im2 = self.data[idx], self.data[idx2]\n",
    "        im = torch.cat((im1, im2), -1)\n",
    "        targ1, targ2 = int(self.targets[idx]), int(self.targets[idx2])\n",
    "        target = self.tgts2tgt[(min(targ1, targ2), max(targ1, targ2))]\n",
    "        return im, target\n",
    "\n",
    "    def __len__(self):\n",
    "        return len(self.data)"
   ]
  },
  {
   "cell_type": "code",
   "execution_count": 96,
   "metadata": {},
   "outputs": [
    {
     "name": "stdout",
     "output_type": "stream",
     "text": [
      "Number of targets: 55\n"
     ]
    }
   ],
   "source": [
    "dset = RotMNIST(\"/scr/ayz/pt_datasets\", train=True)"
   ]
  },
  {
   "cell_type": "code",
   "execution_count": 86,
   "metadata": {},
   "outputs": [
    {
     "data": {
      "text/plain": [
       "Text(0.5, 1.0, 'Target: 51')"
      ]
     },
     "execution_count": 86,
     "metadata": {},
     "output_type": "execute_result"
    },
    {
     "data": {
      "image/png": "[encoded data removed]",
      "text/plain": [
       "<Figure size 432x288 with 1 Axes>"
      ]
     },
     "metadata": {
      "needs_background": "light"
     },
     "output_type": "display_data"
    }
   ],
   "source": [
    "im, target = dset[np.random.randint(60000)]\n",
    "img = im.numpy().squeeze(0)\n",
    "plt.imshow(img)\n",
    "plt.title(f\"Target: {target}\")"
   ]
  },
  {
   "cell_type": "code",
   "execution_count": 87,
   "metadata": {},
   "outputs": [],
   "source": [
    "loader = DataLoader(dset, batch_size=32, shuffle=True)"
   ]
  },
  {
   "cell_type": "code",
   "execution_count": 89,
   "metadata": {},
   "outputs": [],
   "source": [
    "x, y = next(iter(loader))"
   ]
  },
  {
   "cell_type": "code",
   "execution_count": 90,
   "metadata": {},
   "outputs": [
    {
     "data": {
      "text/plain": [
       "torch.Size([32, 1, 28, 56])"
      ]
     },
     "execution_count": 90,
     "metadata": {},
     "output_type": "execute_result"
    }
   ],
   "source": [
    "x.shape"
   ]
  },
  {
   "cell_type": "code",
   "execution_count": 92,
   "metadata": {},
   "outputs": [
    {
     "data": {
      "text/plain": [
       "tensor([48, 14, 39, 41, 12,  0, 26, 31, 48, 51, 27, 18, 30,  3, 39, 16,  0, 17,\n",
       "        28, 39, 41, 23, 46,  3, 48, 42,  8,  8, 26, 14,  4, 35])"
      ]
     },
     "execution_count": 92,
     "metadata": {},
     "output_type": "execute_result"
    }
   ],
   "source": [
    "y"
   ]
  },
  {
   "cell_type": "code",
   "execution_count": null,
   "metadata": {},
   "outputs": [],
   "source": []
  }
 ],
 "metadata": {
  "kernelspec": {
   "display_name": "sharing",
   "language": "python",
   "name": "sharing"
  },
  "language_info": {
   "codemirror_mode": {
    "name": "ipython",
    "version": 3
   },
   "file_extension": ".py",
   "mimetype": "text/x-python",
   "name": "python",
   "nbconvert_exporter": "python",
   "pygments_lexer": "ipython3",
   "version": "3.7.5"
  }
 },
 "nbformat": 4,
 "nbformat_minor": 4
}
