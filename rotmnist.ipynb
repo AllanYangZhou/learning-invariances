{
 "cells": [
  {
   "cell_type": "code",
   "execution_count": 1,
   "metadata": {},
   "outputs": [],
   "source": [
    "import numpy as np\n",
    "import torch\n",
    "import torchvision\n",
    "import torch.nn.functional as F\n",
    "import numpy as np\n",
    "from itertools import combinations\n",
    "import matplotlib.pyplot as plt\n",
    "from torch.utils.data import DataLoader\n",
    "from augerino.datasets import LocalRotMNIST\n",
    "%matplotlib inline"
   ]
  },
  {
   "cell_type": "code",
   "execution_count": 2,
   "metadata": {},
   "outputs": [
    {
     "name": "stderr",
     "output_type": "stream",
     "text": [
      "/iris/u/ayz/anaconda3/envs/augerino/lib/python3.7/site-packages/torch/nn/functional.py:3448: UserWarning: Default grid_sample and affine_grid behavior has changed to align_corners=False since 1.3.0. Please specify align_corners=True if the old behavior is desired. See the documentation of grid_sample for details.\n",
      "  warnings.warn(\"Default grid_sample and affine_grid behavior has changed \"\n",
      "/iris/u/ayz/anaconda3/envs/augerino/lib/python3.7/site-packages/torch/nn/functional.py:3385: UserWarning: Default grid_sample and affine_grid behavior has changed to align_corners=False since 1.3.0. Please specify align_corners=True if the old behavior is desired. See the documentation of grid_sample for details.\n",
      "  warnings.warn(\"Default grid_sample and affine_grid behavior has changed \"\n"
     ]
    },
    {
     "name": "stdout",
     "output_type": "stream",
     "text": [
      "Number of targets: 55.\n"
     ]
    }
   ],
   "source": [
    "dataset = LocalRotMNIST(\"~/datasets\")"
   ]
  },
  {
   "cell_type": "code",
   "execution_count": 3,
   "metadata": {},
   "outputs": [
    {
     "data": {
      "text/plain": [
       "Text(0.5, 1.0, 'Target: 9')"
      ]
     },
     "execution_count": 3,
     "metadata": {},
     "output_type": "execute_result"
    },
    {
     "data": {
      "image/png": "[encoded data removed]",
      "text/plain": [
       "<Figure size 432x288 with 1 Axes>"
      ]
     },
     "metadata": {
      "needs_background": "light"
     },
     "output_type": "display_data"
    }
   ],
   "source": [
    "im, target = dataset[np.random.randint(60000)]\n",
    "img = im.numpy().squeeze(0)\n",
    "plt.imshow(img)\n",
    "plt.title(f\"Target: {target}\")"
   ]
  },
  {
   "cell_type": "code",
   "execution_count": 4,
   "metadata": {},
   "outputs": [],
   "source": [
    "targets = [tgt for data, tgt in dataset]"
   ]
  },
  {
   "cell_type": "code",
   "execution_count": 5,
   "metadata": {},
   "outputs": [],
   "source": [
    "target_counts = {}\n",
    "for val in dataset.tgts2tgt.values():\n",
    "    target_counts[val] = 0\n",
    "for target in targets:\n",
    "    target_counts[target] += 1"
   ]
  },
  {
   "cell_type": "code",
   "execution_count": 6,
   "metadata": {},
   "outputs": [
    {
     "data": {
      "text/plain": [
       "{0: 588,\n",
       " 1: 1346,\n",
       " 2: 1141,\n",
       " 3: 1240,\n",
       " 4: 1194,\n",
       " 5: 1111,\n",
       " 6: 1207,\n",
       " 7: 1177,\n",
       " 8: 1120,\n",
       " 9: 1134,\n",
       " 10: 780,\n",
       " 11: 1295,\n",
       " 12: 1381,\n",
       " 13: 1305,\n",
       " 14: 1147,\n",
       " 15: 1347,\n",
       " 16: 1390,\n",
       " 17: 1351,\n",
       " 18: 1362,\n",
       " 19: 654,\n",
       " 20: 1164,\n",
       " 21: 1146,\n",
       " 22: 1062,\n",
       " 23: 1185,\n",
       " 24: 1251,\n",
       " 25: 1182,\n",
       " 26: 1182,\n",
       " 27: 630,\n",
       " 28: 1184,\n",
       " 29: 1090,\n",
       " 30: 1214,\n",
       " 31: 1261,\n",
       " 32: 1214,\n",
       " 33: 1254,\n",
       " 34: 547,\n",
       " 35: 1081,\n",
       " 36: 1140,\n",
       " 37: 1230,\n",
       " 38: 1131,\n",
       " 39: 1179,\n",
       " 40: 464,\n",
       " 41: 1081,\n",
       " 42: 1172,\n",
       " 43: 1075,\n",
       " 44: 1095,\n",
       " 45: 595,\n",
       " 46: 1230,\n",
       " 47: 1065,\n",
       " 48: 1177,\n",
       " 49: 700,\n",
       " 50: 1212,\n",
       " 51: 1207,\n",
       " 52: 581,\n",
       " 53: 1190,\n",
       " 54: 559}"
      ]
     },
     "execution_count": 6,
     "metadata": {},
     "output_type": "execute_result"
    }
   ],
   "source": [
    "target_counts"
   ]
  },
  {
   "cell_type": "code",
   "execution_count": null,
   "metadata": {},
   "outputs": [],
   "source": []
  }
 ],
 "metadata": {
  "kernelspec": {
   "display_name": "augerino",
   "language": "python",
   "name": "augerino"
  },
  "language_info": {
   "codemirror_mode": {
    "name": "ipython",
    "version": 3
   },
   "file_extension": ".py",
   "mimetype": "text/x-python",
   "name": "python",
   "nbconvert_exporter": "python",
   "pygments_lexer": "ipython3",
   "version": "3.7.8"
  }
 },
 "nbformat": 4,
 "nbformat_minor": 4
}
